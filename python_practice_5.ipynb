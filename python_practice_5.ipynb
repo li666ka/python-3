{
 "cells": [
  {
   "cell_type": "markdown",
   "metadata": {
    "id": "5qV_sehzFCTp"
   },
   "source": [
    "# I. OOP"
   ]
  },
  {
   "cell_type": "markdown",
   "metadata": {
    "id": "tx_U_hOALyfg"
   },
   "source": [
    "1. (6б). Створіть клас Animal, додайте три атрибути, один з яких має значення за замовчуванням та два методи на свій розсуд."
   ]
  },
  {
   "cell_type": "code",
   "execution_count": 4,
   "metadata": {
    "id": "-Vf895KaL88N"
   },
   "outputs": [],
   "source": [
    "class Animal:\n",
    "  def __init__(self, name, species, age=0):\n",
    "    self.name = name\n",
    "    self.species = species\n",
    "    self.age = age\n",
    "\n",
    "  def go(self):\n",
    "    print(f\"{self.name} йде.\")\n",
    "\n",
    "  def eat(self):\n",
    "    print(f\"{self.name} їсть.\")"
   ]
  },
  {
   "cell_type": "markdown",
   "metadata": {
    "id": "X_UlOMB0L93w"
   },
   "source": [
    "2. (2б). Створіть два обʼєкти цього класу, де один з обʼєктів створюється із дефолтним значенням атрибуту. На одному обʼєкті отримайте значення його атрибуту, а на іншому викличте один з його методів."
   ]
  },
  {
   "cell_type": "code",
   "execution_count": 7,
   "metadata": {
    "id": "7gBu0ESOMCpG"
   },
   "outputs": [
    {
     "name": "stdout",
     "output_type": "stream",
     "text": [
      "Лео йде.\n",
      "Лео їсть.\n"
     ]
    },
    {
     "data": {
      "text/plain": [
       "0"
      ]
     },
     "execution_count": 7,
     "metadata": {},
     "output_type": "execute_result"
    }
   ],
   "source": [
    "cat = Animal(\"Лео\", \"Кіт\", 3)\n",
    "cat.go()\n",
    "cat.eat()\n",
    "\n",
    "dog = Animal(\"Рекс\", \"Собака\")\n",
    "dog.age"
   ]
  },
  {
   "cell_type": "markdown",
   "metadata": {
    "id": "HoqSCZt1MHn5"
   },
   "source": [
    "3. (5б). Створіть клас, де атрибути мають різні рівні доступу. Спробуйте отримати їхні значення та опишіть результати."
   ]
  },
  {
   "cell_type": "code",
   "execution_count": 12,
   "metadata": {
    "id": "r9b3vJxBMSPV"
   },
   "outputs": [
    {
     "name": "stdout",
     "output_type": "stream",
     "text": [
      "John Doe\n"
     ]
    },
    {
     "ename": "AttributeError",
     "evalue": "'Person' object has no attribute '__age'",
     "output_type": "error",
     "traceback": [
      "\u001b[1;31m---------------------------------------------------------------------------\u001b[0m",
      "\u001b[1;31mAttributeError\u001b[0m                            Traceback (most recent call last)",
      "Cell \u001b[1;32mIn[12], line 12\u001b[0m\n\u001b[0;32m      9\u001b[0m my_object \u001b[38;5;241m=\u001b[39m Person(\u001b[38;5;124m\"\u001b[39m\u001b[38;5;124mJohn Doe\u001b[39m\u001b[38;5;124m\"\u001b[39m, \u001b[38;5;241m30\u001b[39m)\n\u001b[0;32m     11\u001b[0m \u001b[38;5;28mprint\u001b[39m(my_object\u001b[38;5;241m.\u001b[39mname)\n\u001b[1;32m---> 12\u001b[0m \u001b[38;5;28mprint\u001b[39m(my_object\u001b[38;5;241m.\u001b[39m__age)\n",
      "\u001b[1;31mAttributeError\u001b[0m: 'Person' object has no attribute '__age'"
     ]
    }
   ],
   "source": [
    "class Person:\n",
    "  def __init__(self, name, age):\n",
    "    self.name = name\n",
    "    self.__age = age\n",
    "\n",
    "  def get_age(self):\n",
    "    return self._age\n",
    "\n",
    "my_object = Person(\"John Doe\", 30)\n",
    "\n",
    "print(my_object.name)\n",
    "print(my_object.__age)\n"
   ]
  },
  {
   "cell_type": "markdown",
   "metadata": {
    "id": "5op2m2vgMSkZ"
   },
   "source": [
    "4. (7б). Як ви розумієте термін self? Для чого використовується метод __init __?"
   ]
  },
  {
   "cell_type": "markdown",
   "metadata": {
    "id": "DyiPqNRvMasx"
   },
   "source": [
    "self посилається на поточний екземляр класу, його використовують для отримання полів та методів\n",
    "\n",
    "__init__ це конструктор класу, викликається при створенні його екземляру"
   ]
  },
  {
   "cell_type": "markdown",
   "metadata": {
    "id": "-6X8EGfjMd2y"
   },
   "source": [
    "5. (9б). Створіть клас Фігура без атрибутів, з методом get_area для отримання площі фігури, що повертає 0 та __add __, який приймає self та other в якості аргументів, а повертає суму площин фігур self та other."
   ]
  },
  {
   "cell_type": "code",
   "execution_count": 24,
   "metadata": {
    "id": "4rvO_wYUMaEr"
   },
   "outputs": [],
   "source": [
    "class Figure:\n",
    "  def get_area(self):\n",
    "    return 0\n",
    "\n",
    "  def __add__(self, other):\n",
    "    if isinstance(other, Figure) or issubclass(other, Figure):\n",
    "        return self.get_area() + other.get_area()\n",
    "    else:\n",
    "        raise TypeError(\"Неможливо додати об'єкти різних типів\")"
   ]
  },
  {
   "cell_type": "markdown",
   "metadata": {
    "id": "SFcKnnv5Mo_z"
   },
   "source": [
    "6. (11б). Створіть 2 дочірніх класи від Фігури: Трикутник та Коло, які мають атрибути, необхідні для розрахунку площин. Визначте метод get_area в кожному з них так, щоби вони розраховували площу в залежності від формули для кожного типу фігури. Створіть обʼєкт класу Трикутник та обʼєкт класу Коло. Виконайте операцію суми за допомогою оператора + між ними."
   ]
  },
  {
   "cell_type": "code",
   "execution_count": 25,
   "metadata": {
    "id": "H3GVNr69Muf3"
   },
   "outputs": [
    {
     "name": "stdout",
     "output_type": "stream",
     "text": [
      "Площа трикутника: 10.0\n",
      "Площа кола: 28.274333882308138\n",
      "Сума площ: 38.27433388230814\n"
     ]
    }
   ],
   "source": [
    "import math \n",
    "\n",
    "class Triangle(Figure):\n",
    "    def __init__(self, base, height):\n",
    "        self.base = base\n",
    "        self.height = height\n",
    "\n",
    "    def get_area(self):\n",
    "        return 0.5 * self.base * self.height\n",
    "\n",
    "class Circle(Figure):\n",
    "    def __init__(self, radius):\n",
    "        self.radius = radius\n",
    "\n",
    "    def get_area(self):\n",
    "        return math.pi * self.radius**2\n",
    "    \n",
    "triangle = Triangle(5, 4)\n",
    "circle = Circle(3)\n",
    "\n",
    "area_sum = triangle + circle\n",
    "\n",
    "print(f\"Площа трикутника: {triangle.get_area()}\")\n",
    "print(f\"Площа кола: {circle.get_area()}\")\n",
    "print(f\"Сума площ: {area_sum}\")"
   ]
  },
  {
   "cell_type": "markdown",
   "metadata": {
    "id": "HCvR206YMvLK"
   },
   "source": [
    "7. (3б). Продемонструйте різницю між isinstance та issubclass."
   ]
  },
  {
   "cell_type": "code",
   "execution_count": 38,
   "metadata": {
    "id": "L_V1bBvDM0GN"
   },
   "outputs": [
    {
     "name": "stdout",
     "output_type": "stream",
     "text": [
      "Фігура це об'єкт класу Figure: True\n",
      "Трикутник це об'єкт класу Figure: True\n",
      "Фігура це об'єкт класу Triangle: False\n",
      "Трикутник це об'єкт класу Triangle: True\n",
      "Коло це об'єкт класу Triangle: False\n",
      "\n",
      "Figure це підклас класу Figure: True\n",
      "Figure це підклас класу Triangle: False\n",
      "Triangle це підклас класу Figure: True\n"
     ]
    }
   ],
   "source": [
    "fig = Figure()\n",
    "\n",
    "print('Фігура це об\\'єкт класу Figure:', isinstance(fig, Figure))\n",
    "print('Трикутник це об\\'єкт класу Figure:', isinstance(triangle, Figure))\n",
    "print('Фігура це об\\'єкт класу Triangle:', isinstance(fig, Triangle)) \n",
    "print('Трикутник це об\\'єкт класу Triangle:', isinstance(triangle, Triangle))\n",
    "print('Коло це об\\'єкт класу Triangle:', isinstance(circle, Triangle)) \n",
    "\n",
    "print()\n",
    "\n",
    "print('Figure це підклас класу Figure:', issubclass(Figure, Figure)) \n",
    "print('Figure це підклас класу Triangle:', issubclass(Figure, Triangle)) \n",
    "print('Triangle це підклас класу Figure:', issubclass(Triangle, Figure)) "
   ]
  },
  {
   "cell_type": "markdown",
   "metadata": {
    "id": "jjsaBZ-iM0Qq"
   },
   "source": [
    "8. (13б). Створіть клас BankAccount з приватними атрибутами balance та account_number. Реалізуйте методи поповнення та зняття коштів, забезпечивши належну інкапсуляцію. Підказка: використовуйте декоратори property та setter."
   ]
  },
  {
   "cell_type": "code",
   "execution_count": 43,
   "metadata": {
    "id": "xCvZ7lh8M7YA"
   },
   "outputs": [
    {
     "name": "stdout",
     "output_type": "stream",
     "text": [
      "Баланс: 100\n",
      "Баланс після внеску: 160\n",
      "Баланс після зняття: 130\n",
      "Недостатньо коштів\n"
     ]
    }
   ],
   "source": [
    "class BankAccount:\n",
    "    def __init__(self, balance, account_number):\n",
    "        self._balance = balance\n",
    "        self._account_number = account_number\n",
    "\n",
    "    @property\n",
    "    def balance(self):\n",
    "        return self._balance\n",
    "\n",
    "    @balance.setter\n",
    "    def balance(self, new_balance):\n",
    "        if new_balance < 0:\n",
    "            raise ValueError(\"Баланс не може бути від'ємним\")\n",
    "        self._balance = new_balance\n",
    "\n",
    "    def deposit(self, amount):\n",
    "        if amount < 0:\n",
    "            raise ValueError(\"Внесок не може бути від'ємним\")\n",
    "        self.balance += amount\n",
    "\n",
    "    def withdraw(self, amount):\n",
    "        if amount < 0:\n",
    "            raise ValueError(\"Зняття не може бути від'ємним\")\n",
    "        if amount > self._balance:\n",
    "            raise ValueError(\"Недостатньо коштів\")\n",
    "        self._balance -= amount\n",
    "\n",
    "account = BankAccount(100, \"UA1234567890\")\n",
    "\n",
    "print(f\"Баланс: {account.balance}\")\n",
    "\n",
    "account.deposit(60)\n",
    "print(f\"Баланс після внеску: {account.balance}\")\n",
    "\n",
    "account.withdraw(30)\n",
    "print(f\"Баланс після зняття: {account.balance}\")\n",
    "\n",
    "try:\n",
    "    account.withdraw(150)\n",
    "except ValueError as e:\n",
    "    print(e)\n"
   ]
  },
  {
   "cell_type": "markdown",
   "metadata": {
    "id": "tIzL2SJTM8ft"
   },
   "source": [
    "9. (11б). Створіть клас Library, який містить список об'єктів типу Book. Реалізуйте методи для додавання книги, видалення книги та відображення списку книг."
   ]
  },
  {
   "cell_type": "code",
   "execution_count": 47,
   "metadata": {
    "id": "HWxfJKLtNAUZ"
   },
   "outputs": [
    {
     "name": "stdout",
     "output_type": "stream",
     "text": [
      "- Воно від Стівен Кінг\n",
      "- Сяйво від Стівен Кінг\n",
      "Видалення книги...\n",
      "- Сяйво від Стівен Кінг\n"
     ]
    }
   ],
   "source": [
    "class Book:\n",
    "    def __init__(self, title, author):\n",
    "        self.title = title\n",
    "        self.author = author\n",
    "\n",
    "class Library:\n",
    "    def __init__(self):\n",
    "        self.books = []\n",
    "\n",
    "    def add_book(self, book):\n",
    "        if not isinstance(book, Book):\n",
    "            raise TypeError(\"arg is not Book\")\n",
    "        self.books.append(book)\n",
    "\n",
    "    def remove_book(self, book):\n",
    "        if not isinstance(book, Book):\n",
    "            raise TypeError(\"arg is not Book\")\n",
    "        self.books.remove(book)\n",
    "\n",
    "    def list_books(self):\n",
    "        for book in self.books:\n",
    "            print(f\"- {book.title} від {book.author}\")\n",
    "\n",
    "library = Library()\n",
    "\n",
    "book1 = Book(\"Воно\", \"Стівен Кінг\")\n",
    "book2 = Book(\"Сяйво\", \"Стівен Кінг\")\n",
    "\n",
    "library.add_book(book1)\n",
    "library.add_book(book2)\n",
    "\n",
    "library.list_books()\n",
    "\n",
    "print(\"Видалення книги...\")\n",
    "library.remove_book(book1)\n",
    "\n",
    "library.list_books()\n"
   ]
  },
  {
   "cell_type": "markdown",
   "metadata": {
    "id": "lmV8pAwwNIqu"
   },
   "source": [
    "10. (13б). Створіть клас Person з атрибутами name та age. Створіть ще один клас Employee з такими атрибутами, як department та salary. Створіть клас Manager, який успадковує обидва класи Person та Employee. Продемонструйте використання множинної спадковості, створивши обʼєкт класу Manager та отримавши mro для цього класу."
   ]
  },
  {
   "cell_type": "code",
   "execution_count": 50,
   "metadata": {
    "id": "R49grKlWNPeN"
   },
   "outputs": [
    {
     "name": "stdout",
     "output_type": "stream",
     "text": [
      "Ім'я: Петро\n",
      "Вік: 35\n",
      "Відділ: IT\n",
      "Зарплата: 100000\n",
      "MRO: (<class '__main__.Manager'>, <class '__main__.Person'>, <class '__main__.Employee'>, <class 'object'>)\n"
     ]
    }
   ],
   "source": [
    "class Person:\n",
    "    def __init__(self, name, age):\n",
    "        self.name = name\n",
    "        self.age = age\n",
    "\n",
    "class Employee:\n",
    "    def __init__(self, department, salary):\n",
    "        self.department = department\n",
    "        self.salary = salary\n",
    "\n",
    "class Manager(Person, Employee):\n",
    "    def __init__(self, name, age, department, salary):\n",
    "        super().__init__(name, age)\n",
    "        Employee.__init__(self, department, salary)\n",
    "\n",
    "manager = Manager(\"Петро\", 35, \"IT\", 100000)\n",
    "\n",
    "print(f\"Ім'я: {manager.name}\")\n",
    "print(f\"Вік: {manager.age}\")\n",
    "print(f\"Відділ: {manager.department}\")\n",
    "print(f\"Зарплата: {manager.salary}\")\n",
    "\n",
    "print(f\"MRO: {manager.__class__.__mro__}\")\n"
   ]
  },
  {
   "cell_type": "markdown",
   "metadata": {
    "id": "dIJyUiNBFG8G"
   },
   "source": [
    "# II. Iterator"
   ]
  },
  {
   "cell_type": "markdown",
   "metadata": {
    "id": "13vsm0NyKIzL"
   },
   "source": [
    "11. (4б). Визначте рядок(str) з 4ма різними за значенням символами. Створіть ітератор на основі цього рядка. Викличте 5 разів функцію next на ітераторі, 4ри перших з них огорніть у ф-цію print()."
   ]
  },
  {
   "cell_type": "code",
   "execution_count": 53,
   "metadata": {
    "id": "81ntabAkKuz-"
   },
   "outputs": [
    {
     "name": "stdout",
     "output_type": "stream",
     "text": [
      "1\n",
      "2\n",
      "3\n",
      "4\n"
     ]
    },
    {
     "ename": "StopIteration",
     "evalue": "",
     "output_type": "error",
     "traceback": [
      "\u001b[1;31m---------------------------------------------------------------------------\u001b[0m",
      "\u001b[1;31mStopIteration\u001b[0m                             Traceback (most recent call last)",
      "Cell \u001b[1;32mIn[53], line 8\u001b[0m\n\u001b[0;32m      6\u001b[0m     \u001b[38;5;28mprint\u001b[39m(\u001b[38;5;28mnext\u001b[39m(iterator))\n\u001b[0;32m      7\u001b[0m \u001b[38;5;28;01melse\u001b[39;00m:\n\u001b[1;32m----> 8\u001b[0m     \u001b[38;5;28mnext\u001b[39m(iterator)\n",
      "\u001b[1;31mStopIteration\u001b[0m: "
     ]
    }
   ],
   "source": [
    "string = \"1234\"\n",
    "iterator = iter(string)\n",
    "\n",
    "for i in range(5):\n",
    "    if i < 4:\n",
    "        print(next(iterator))\n",
    "    else:\n",
    "        next(iterator)\n"
   ]
  },
  {
   "cell_type": "markdown",
   "metadata": {
    "id": "aekWHGXOLRsO"
   },
   "source": [
    "А що якщо викликати цю ж функцію на рядку?"
   ]
  },
  {
   "cell_type": "code",
   "execution_count": 55,
   "metadata": {
    "id": "mxATGsErLV1i"
   },
   "outputs": [
    {
     "ename": "TypeError",
     "evalue": "'str' object is not an iterator",
     "output_type": "error",
     "traceback": [
      "\u001b[1;31m---------------------------------------------------------------------------\u001b[0m",
      "\u001b[1;31mTypeError\u001b[0m                                 Traceback (most recent call last)",
      "Cell \u001b[1;32mIn[55], line 1\u001b[0m\n\u001b[1;32m----> 1\u001b[0m \u001b[38;5;28mnext\u001b[39m(string)\n",
      "\u001b[1;31mTypeError\u001b[0m: 'str' object is not an iterator"
     ]
    }
   ],
   "source": [
    "next(string)"
   ]
  },
  {
   "cell_type": "markdown",
   "metadata": {
    "id": "XwtMEopwJ4pH"
   },
   "source": [
    " 12. (5б). Опишіть своїми словами в одному реченні, як ви розумієте різницю між ітерабельними обʼєктами та ітераторами (можна на прикладі)."
   ]
  },
  {
   "cell_type": "markdown",
   "metadata": {
    "id": "-sHrODc3KFn8"
   },
   "source": [
    "Ітератори приймають ітерабельні об'єкти ([1, 2, 3])."
   ]
  },
  {
   "cell_type": "markdown",
   "metadata": {
    "id": "E9qJWmNbK8Gl"
   },
   "source": [
    "13. (11б). Створіть клас, що має визначений Iterator Protocol та при кожному виклику next повертає літери англійської абетки, поки вони не вичерпаються."
   ]
  },
  {
   "cell_type": "code",
   "execution_count": 59,
   "metadata": {
    "id": "cqx-g_RsLo6I"
   },
   "outputs": [
    {
     "name": "stdout",
     "output_type": "stream",
     "text": [
      "a\n",
      "b\n",
      "c\n",
      "d\n",
      "e\n",
      "f\n",
      "g\n",
      "h\n",
      "i\n",
      "j\n",
      "k\n",
      "l\n",
      "m\n",
      "n\n",
      "o\n",
      "p\n",
      "q\n",
      "r\n",
      "s\n",
      "t\n",
      "u\n",
      "v\n",
      "w\n",
      "x\n",
      "y\n",
      "z\n"
     ]
    }
   ],
   "source": [
    "class AlphabetIterator:\n",
    "    def __init__(self):\n",
    "        self.alphabet = \"abcdefghijklmnopqrstuvwxyz\"\n",
    "        self.index = -1\n",
    "\n",
    "    def __iter__(self):\n",
    "        return self\n",
    "\n",
    "    def __next__(self):\n",
    "        self.index += 1\n",
    "        if self.index >= len(self.alphabet):\n",
    "            raise StopIteration\n",
    "        return self.alphabet[self.index]\n",
    "\n",
    "iterator = AlphabetIterator()\n",
    "\n",
    "for letter in iterator:\n",
    "    print(letter)\n"
   ]
  },
  {
   "cell_type": "markdown",
   "metadata": {
    "id": "Z3E3S_s1Fv7-"
   },
   "source": [
    "# Вітаю! Ви велика(ий) молодець, що впоралась(вся). Похваліть себе та побалуйте чимось приємним. Я Вами пишаюся."
   ]
  }
 ],
 "metadata": {
  "colab": {
   "provenance": []
  },
  "kernelspec": {
   "display_name": "Python 3 (ipykernel)",
   "language": "python",
   "name": "python3"
  },
  "language_info": {
   "codemirror_mode": {
    "name": "ipython",
    "version": 3
   },
   "file_extension": ".py",
   "mimetype": "text/x-python",
   "name": "python",
   "nbconvert_exporter": "python",
   "pygments_lexer": "ipython3",
   "version": "3.11.5"
  }
 },
 "nbformat": 4,
 "nbformat_minor": 1
}
