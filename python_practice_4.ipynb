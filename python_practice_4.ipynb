{
 "cells": [
  {
   "cell_type": "markdown",
   "metadata": {
    "id": "kXpppdVm6wFy"
   },
   "source": [
    "# I. Functions. Arguments."
   ]
  },
  {
   "cell_type": "markdown",
   "metadata": {
    "id": "u_krJdlbAkVz"
   },
   "source": [
    "1. (5б) Назвіть основні 4 смислові  частини, з яких складається функція."
   ]
  },
  {
   "cell_type": "markdown",
   "metadata": {
    "id": "KKTrTXmHAptb"
   },
   "source": [
    "Назва функції, аргументи функції, тіло функції, дані що повертає функція"
   ]
  },
  {
   "cell_type": "markdown",
   "metadata": {
    "id": "ORM4PqJQAtDM"
   },
   "source": [
    "2. (3б) Визначте функцію, що приймає 2 аргументи та повертає результат ділення 1го аргумента на інший."
   ]
  },
  {
   "cell_type": "code",
   "execution_count": 1,
   "metadata": {
    "id": "EuDx-z8M6sLo"
   },
   "outputs": [],
   "source": [
    "def div(x, y):\n",
    "    return x / y"
   ]
  },
  {
   "cell_type": "markdown",
   "metadata": {
    "id": "5joQGQ-SAyMe"
   },
   "source": [
    "3. (2б) Викличте вище визначену функцію, де другий аргумент дорівнює 0."
   ]
  },
  {
   "cell_type": "code",
   "execution_count": 2,
   "metadata": {
    "id": "V5cBV1LOA3d-"
   },
   "outputs": [
    {
     "ename": "ZeroDivisionError",
     "evalue": "division by zero",
     "output_type": "error",
     "traceback": [
      "\u001b[1;31m---------------------------------------------------------------------------\u001b[0m",
      "\u001b[1;31mZeroDivisionError\u001b[0m                         Traceback (most recent call last)",
      "Cell \u001b[1;32mIn[2], line 1\u001b[0m\n\u001b[1;32m----> 1\u001b[0m div(\u001b[38;5;241m1\u001b[39m, \u001b[38;5;241m0\u001b[39m)\n",
      "Cell \u001b[1;32mIn[1], line 2\u001b[0m, in \u001b[0;36mdiv\u001b[1;34m(x, y)\u001b[0m\n\u001b[0;32m      1\u001b[0m \u001b[38;5;28;01mdef\u001b[39;00m \u001b[38;5;21mdiv\u001b[39m(x, y):\n\u001b[1;32m----> 2\u001b[0m     x \u001b[38;5;241m/\u001b[39m y\n",
      "\u001b[1;31mZeroDivisionError\u001b[0m: division by zero"
     ]
    }
   ],
   "source": [
    "div(1, 0)"
   ]
  },
  {
   "cell_type": "markdown",
   "metadata": {
    "id": "QyimWgW8A43-"
   },
   "source": [
    "4. (4б) Перевизначте функцію так, щоби у випадку ділення на 0 функція повертала None, а в решті випадків - результат розрахунків."
   ]
  },
  {
   "cell_type": "code",
   "execution_count": 49,
   "metadata": {
    "id": "7VIODtSjA8Ek"
   },
   "outputs": [],
   "source": [
    "def div(x, y):\n",
    "    if y == 0:\n",
    "        return None\n",
    "    else: \n",
    "        return x / y"
   ]
  },
  {
   "cell_type": "code",
   "execution_count": 15,
   "metadata": {},
   "outputs": [],
   "source": [
    "div(1, 0)"
   ]
  },
  {
   "cell_type": "code",
   "execution_count": 16,
   "metadata": {},
   "outputs": [
    {
     "data": {
      "text/plain": [
       "2.0"
      ]
     },
     "execution_count": 16,
     "metadata": {},
     "output_type": "execute_result"
    }
   ],
   "source": [
    "div(4, 2)"
   ]
  },
  {
   "cell_type": "markdown",
   "metadata": {
    "id": "Y8mN0GfkA81l"
   },
   "source": [
    "5. (5б) Визначте функцію, що віднімає одне число від іншого (підказка: це буде 2 аргументи функції). При чому, якщо не визначити, скільки саме має бути віднято від числа, за замовчуванням має відніматися 1. Викличте функцію, передаючи тільки один аргумент."
   ]
  },
  {
   "cell_type": "code",
   "execution_count": 7,
   "metadata": {
    "id": "vg1kxkdgBA50"
   },
   "outputs": [
    {
     "data": {
      "text/plain": [
       "3"
      ]
     },
     "execution_count": 7,
     "metadata": {},
     "output_type": "execute_result"
    }
   ],
   "source": [
    "def sub(x, y=1):\n",
    "    return x - y\n",
    "\n",
    "sub(4)"
   ]
  },
  {
   "cell_type": "markdown",
   "metadata": {
    "id": "D3mwQGNOBBs4"
   },
   "source": [
    "6. (7б) Визначте функцію, яка приймає iterable (ітерабельний обʼєкт, напр. список), що складається з 7ми рядкових значень - назв погодних умов (напр. \"sunny\") за кожен день у тижні. Повертає функція словник, де ключами є рядки з погодними умовами, а значеннями - кількість разів, скільки дана погода була протягом тижня (напр. {'sunny': 1, ...}). Викличте цю функцію та виведіть результат її роботи на екран."
   ]
  },
  {
   "cell_type": "code",
   "execution_count": 14,
   "metadata": {
    "id": "OsWm-hKcBFyn"
   },
   "outputs": [
    {
     "data": {
      "text/plain": [
       "{'sunny': 2, 'windy': 2, 'rainy': 1, 'snowy': 1, 'cloudy': 1}"
      ]
     },
     "execution_count": 14,
     "metadata": {},
     "output_type": "execute_result"
    }
   ],
   "source": [
    "def count_weather(weather):\n",
    "  weather_counts = {}\n",
    "  for w in weather:\n",
    "    weather_counts[w] = weather_counts.get(w, 0) + 1\n",
    "  return weather_counts\n",
    "\n",
    "weather = [\"sunny\", \"windy\", \"rainy\", \"snowy\", \"windy\", \"sunny\", \"cloudy\"]\n",
    "weather_counts = count_weather(weather)\n",
    "\n",
    "weather_counts"
   ]
  },
  {
   "cell_type": "markdown",
   "metadata": {
    "id": "RMiCcdOsBKQT"
   },
   "source": [
    "7. (15б) Напишіть програму, яка б шукала необхідне число у впорядкованому списку цілочислених значень, де\n",
    "число має вводитись з консолі.\n",
    "власне алгоритм пошуку винесений в окрему функцію, яка повертає булеве значення (знайдено число - True, не знайдено - False).\n",
    "в залежності від результату функції, виведіть на екран повідомлення про успішний або ж неуспішний пошук.\n",
    "Зауваження: використовувати оператор in заборонено."
   ]
  },
  {
   "cell_type": "code",
   "execution_count": 23,
   "metadata": {
    "id": "UNCZg65OBOy-"
   },
   "outputs": [
    {
     "name": "stdout",
     "output_type": "stream",
     "text": [
      "Введіть число: 7\n",
      "Число 7 знайдено!\n"
     ]
    }
   ],
   "source": [
    "def search(list, item):\n",
    "  low = 0\n",
    "  high = len(list) - 1\n",
    "\n",
    "  while low <= high:\n",
    "    mid = (low + high) // 2\n",
    "    if list[mid] == item:\n",
    "      return True\n",
    "    elif list[mid] < item:\n",
    "      low = mid + 1\n",
    "    else:\n",
    "      high = mid - 1\n",
    "\n",
    "  return False\n",
    "\n",
    "list = [1, 3, 5, 7, 9, 11, 13, 15]\n",
    "item = int(input(\"Введіть число: \"))\n",
    "\n",
    "found = search(list, item)\n",
    "\n",
    "if found:\n",
    "  print(f\"Число {item} знайдено!\")\n",
    "else:\n",
    "  print(f\"Число {item} не знайдено.\")\n"
   ]
  },
  {
   "cell_type": "markdown",
   "metadata": {
    "id": "Ae1n_OvLBTsy"
   },
   "source": [
    "# II. Lambda functions."
   ]
  },
  {
   "cell_type": "markdown",
   "metadata": {
    "id": "xaD_wSlaCWen"
   },
   "source": [
    "8. (4б) В яких випадках варто використовувати лямбда-функції?"
   ]
  },
  {
   "cell_type": "markdown",
   "metadata": {
    "id": "42MB6OoLCakR"
   },
   "source": [
    "Для фільтрації, в якості аргумента для іншої функції"
   ]
  },
  {
   "cell_type": "markdown",
   "metadata": {
    "id": "USrzrk7GCedk"
   },
   "source": [
    "9. (9б) Визначте список з рядками. Після цього визначте анонімну функцію для отримання першого символу у верхньому регістрі для кожного рядка списку.\n",
    "Підказка: використовуйте анонімну функцію в якості агрумента до вбудованої ф-ції, яка створена для застосування функцій над iterable обʼєктами. Результат виведіть на екран у вигляді кортежу."
   ]
  },
  {
   "cell_type": "code",
   "execution_count": 27,
   "metadata": {
    "id": "M8QWUsMlCjWH"
   },
   "outputs": [
    {
     "data": {
      "text/plain": [
       "('H', 'W', 'T')"
      ]
     },
     "execution_count": 27,
     "metadata": {},
     "output_type": "execute_result"
    }
   ],
   "source": [
    "strings = [\"hello\", \"world\", \"there\"]\n",
    "\n",
    "get_first_char = lambda s: s[0].upper()\n",
    "upper_first_chars = map(get_first_char, strings)\n",
    "\n",
    "tuple(upper_first_chars)"
   ]
  },
  {
   "cell_type": "markdown",
   "metadata": {
    "id": "9fyUhXOoCtGp"
   },
   "source": [
    "10. (10б) Визначте список з числовими значеннями (і цілими, і з рухомою комою). а) Відфільтруйте всі числа, які діляться націло на 3 за допомогою вбудованої функції та анонімної функції в якості аргумента). Збережіть результат у змінній, не приводяти явно до будь-якого типу. б) Використовуючи результат на кроці 12.а у якості аргументу, та за допомогою лямбда-функції в якості іншого аргументу до вбудованої функції, додайте до кожного елементу число 1 та опісля зведіть у квадрат. Остаточний результат приведіть явно до списку та виведіть на екран."
   ]
  },
  {
   "cell_type": "code",
   "execution_count": 39,
   "metadata": {
    "id": "exEx2_okCsql"
   },
   "outputs": [
    {
     "ename": "TypeError",
     "evalue": "'list' object is not callable",
     "output_type": "error",
     "traceback": [
      "\u001b[1;31m---------------------------------------------------------------------------\u001b[0m",
      "\u001b[1;31mTypeError\u001b[0m                                 Traceback (most recent call last)",
      "Cell \u001b[1;32mIn[39], line 11\u001b[0m\n\u001b[0;32m      7\u001b[0m add_one_and_square \u001b[38;5;241m=\u001b[39m \u001b[38;5;28;01mlambda\u001b[39;00m x: (x \u001b[38;5;241m+\u001b[39m \u001b[38;5;241m1\u001b[39m) \u001b[38;5;241m*\u001b[39m\u001b[38;5;241m*\u001b[39m \u001b[38;5;241m2\u001b[39m\n\u001b[0;32m      9\u001b[0m squared_numbers \u001b[38;5;241m=\u001b[39m \u001b[38;5;28mmap\u001b[39m(add_one_and_square, filtered_numbers)\n\u001b[1;32m---> 11\u001b[0m final_result \u001b[38;5;241m=\u001b[39m \u001b[38;5;28mlist\u001b[39m(squared_numbers)\n\u001b[0;32m     13\u001b[0m \u001b[38;5;66;03m# filtered_numbers\u001b[39;00m\n\u001b[0;32m     14\u001b[0m \u001b[38;5;28mprint\u001b[39m(final_result)\n",
      "\u001b[1;31mTypeError\u001b[0m: 'list' object is not callable"
     ]
    }
   ],
   "source": [
    "numbers = [1, 2.5, 3, 4.1, 5, 6.6, 7, 8.9, 9, 10.1]\n",
    "\n",
    "divisible_by_3 = lambda x: x % 3 == 0\n",
    "\n",
    "filtered_numbers = filter(divisible_by_3, numbers)\n",
    "\n",
    "add_one_and_square = lambda x: (x + 1) ** 2\n",
    "\n",
    "squared_numbers = map(add_one_and_square, filtered_numbers)\n",
    "\n",
    "final_result = list(squared_numbers)\n",
    "\n",
    "# filtered_numbers\n",
    "print(final_result)"
   ]
  },
  {
   "cell_type": "markdown",
   "metadata": {
    "id": "o_x8cG_WC7jp"
   },
   "source": [
    "# III. Decorators."
   ]
  },
  {
   "cell_type": "markdown",
   "metadata": {
    "id": "mhxS4-mfC8LQ"
   },
   "source": [
    "11. (11б) Визначте декоратор, який би виводив у консоль повідомлення про початок роботи і назву функції (напр. my_function._ _ name _ _), а після відпрацювання функції - повідомлення про закінчення роботи і назву функції, що задекорована."
   ]
  },
  {
   "cell_type": "code",
   "execution_count": 46,
   "metadata": {
    "id": "srd1ygWjDGhO"
   },
   "outputs": [
    {
     "name": "stdout",
     "output_type": "stream",
     "text": [
      "--- Початок роботи: my_function ---\n",
      "Функція my_function отримала аргументи: 10, 20\n",
      "--- Закінчення роботи: my_function ---\n"
     ]
    },
    {
     "data": {
      "text/plain": [
       "30"
      ]
     },
     "execution_count": 46,
     "metadata": {},
     "output_type": "execute_result"
    }
   ],
   "source": [
    "def my_function = log_function_execution(my_function)(func):\n",
    "  def wrapper(*args, **kwargs):\n",
    "    print(f\"--- Початок роботи: {func.__name__} ---\")\n",
    "    result = func(*args, **kwargs)\n",
    "    print(f\"--- Закінчення роботи: {func.__name__} ---\")\n",
    "    return result\n",
    "  return wrapper\n",
    "\n",
    "@log_function_execution\n",
    "def my_function(a, b):\n",
    "  print(f\"Функція my_function отримала аргументи: {a}, {b}\")\n",
    "  return a + b\n",
    "\n",
    "my_function(10, 20)"
   ]
  },
  {
   "cell_type": "markdown",
   "metadata": {
    "id": "rxGZwVBiDph3"
   },
   "source": [
    "12. (4б) Задекоруйте двома різними способами функції з завдання 4 та 5 декоратором із завдання 11. (**УВАГА**: не декоруйте функції двічі!)."
   ]
  },
  {
   "cell_type": "code",
   "execution_count": 56,
   "metadata": {
    "id": "06lj7eq_DwZe"
   },
   "outputs": [],
   "source": [
    "div = log_function_execution(div)"
   ]
  },
  {
   "cell_type": "code",
   "execution_count": 57,
   "metadata": {},
   "outputs": [],
   "source": [
    "sub = log_function_execution(sub)"
   ]
  },
  {
   "cell_type": "code",
   "execution_count": 58,
   "metadata": {},
   "outputs": [],
   "source": [
    "@log_function_execution\n",
    "def div(x, y):\n",
    "    if y == 0:\n",
    "        return None\n",
    "    else: \n",
    "        return x / y"
   ]
  },
  {
   "cell_type": "code",
   "execution_count": 59,
   "metadata": {},
   "outputs": [],
   "source": [
    "@log_function_execution\n",
    "def sub(x, y=1):\n",
    "    return x - y"
   ]
  },
  {
   "cell_type": "markdown",
   "metadata": {
    "id": "P0ep1urBDzf-"
   },
   "source": [
    "13. (2б) Викличте одну з задекорованих функцій і виведіть її результат на екран."
   ]
  },
  {
   "cell_type": "code",
   "execution_count": 60,
   "metadata": {
    "id": "1QvTw0ctD0S3"
   },
   "outputs": [
    {
     "name": "stdout",
     "output_type": "stream",
     "text": [
      "--- Початок роботи: sub ---\n",
      "--- Закінчення роботи: sub ---\n"
     ]
    },
    {
     "data": {
      "text/plain": [
       "6"
      ]
     },
     "execution_count": 60,
     "metadata": {},
     "output_type": "execute_result"
    }
   ],
   "source": [
    "sub(8,2)"
   ]
  },
  {
   "cell_type": "markdown",
   "metadata": {
    "id": "poECCpuoD2S9"
   },
   "source": [
    "# IV. Recursion."
   ]
  },
  {
   "cell_type": "markdown",
   "metadata": {
    "id": "DqkURfdsD7MY"
   },
   "source": [
    "14. (4б) Назвіть дві частини функції, які є обовʼязковими для того, щоб називати її рекурсивною."
   ]
  },
  {
   "cell_type": "markdown",
   "metadata": {
    "id": "HYW6ttIeIQIU"
   },
   "source": [
    "Рекурсивна функція має умову яка зупиняє виконання цієї функції і також функція має виклик самої себе"
   ]
  },
  {
   "cell_type": "markdown",
   "metadata": {
    "id": "WYVt20UmEA35"
   },
   "source": [
    "15. (15б) Визначте функцію, яка рекурсивно реалізовує пошук числа у послідовності Фібоначчі за її індексом (нумерація починається з нуля). Наприклад, потрібно знайти перше число у послідовності, тоді функція прийматиме 0 у якості аргумента і повертатиме 1, якщо ж знаходити третє число (індекс 2) послідовності, то функція повертатиме 2, якщо ж знаходити десяте число (індекс 9), то функція повертатиме 55."
   ]
  },
  {
   "cell_type": "code",
   "execution_count": 63,
   "metadata": {
    "id": "xIMhp05AIpV_"
   },
   "outputs": [
    {
     "name": "stdout",
     "output_type": "stream",
     "text": [
      "Число Фібоначчі з індексом 0: 0\n",
      "Число Фібоначчі з індексом 1: 1\n",
      "Число Фібоначчі з індексом 2: 1\n",
      "Число Фібоначчі з індексом 3: 2\n",
      "Число Фібоначчі з індексом 4: 3\n",
      "Число Фібоначчі з індексом 5: 5\n",
      "Число Фібоначчі з індексом 6: 8\n",
      "Число Фібоначчі з індексом 7: 13\n",
      "Число Фібоначчі з індексом 8: 21\n",
      "Число Фібоначчі з індексом 9: 34\n"
     ]
    }
   ],
   "source": [
    "def fibonacci(n):\n",
    "  if n == 0 or n == 1:\n",
    "    return n\n",
    "  else:\n",
    "    return fibonacci(n-1) + fibonacci(n-2)\n",
    "\n",
    "for i in range(10):\n",
    "  print(f\"Число Фібоначчі з індексом {i}: {fibonacci(i)}\")"
   ]
  },
  {
   "cell_type": "markdown",
   "metadata": {
    "id": "ytXC8n_4Ip0W"
   },
   "source": [
    "# Вітаю! Ви велика(ий) молодець, що впоралась(вся). Похваліть себе та побалуйте чимось приємним. Я Вами пишаюся."
   ]
  }
 ],
 "metadata": {
  "colab": {
   "provenance": []
  },
  "kernelspec": {
   "display_name": "Python 3 (ipykernel)",
   "language": "python",
   "name": "python3"
  },
  "language_info": {
   "codemirror_mode": {
    "name": "ipython",
    "version": 3
   },
   "file_extension": ".py",
   "mimetype": "text/x-python",
   "name": "python",
   "nbconvert_exporter": "python",
   "pygments_lexer": "ipython3",
   "version": "3.11.5"
  }
 },
 "nbformat": 4,
 "nbformat_minor": 1
}
