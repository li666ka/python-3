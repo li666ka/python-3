{
 "cells": [
  {
   "cell_type": "markdown",
   "metadata": {
    "id": "qDEi2Pi-4yUC"
   },
   "source": [
    "# I. Оператори порівняння та логічні оператори. Умови."
   ]
  },
  {
   "cell_type": "markdown",
   "metadata": {
    "id": "3v8D4Dkm43Ua"
   },
   "source": [
    "1. Створіть цілочисленну змінну зі своїм щасливим або улюбленим числом. Напишіть код, який би автоматизовував наступну задачу.\n",
    "\n",
    "Якщо число парне, помножте його на 2 та виведіть результат на екран.\n",
    "\n",
    "Але якщо число непарне, помножте його на 3 та додайте 1 і виведіть на екран."
   ]
  },
  {
   "cell_type": "code",
   "execution_count": 2,
   "metadata": {
    "id": "dlVjc-Nu4bmb"
   },
   "outputs": [
    {
     "name": "stdout",
     "output_type": "stream",
     "text": [
      "40\n"
     ]
    }
   ],
   "source": [
    "number = 13\n",
    "\n",
    "if number % 2 == 0:\n",
    "    print(number * 2)\n",
    "else:\n",
    "    print(number * 3 + 1)"
   ]
  },
  {
   "cell_type": "markdown",
   "metadata": {
    "id": "H669P0QK5BI_"
   },
   "source": [
    "2. Створіть змінну, що посилається на список. Якщо список пустий, додайте будь-який елемент у кінець списку. Якщо ж ні, то нічого не робіть."
   ]
  },
  {
   "cell_type": "code",
   "execution_count": 5,
   "metadata": {
    "id": "ecWlfra45f6E"
   },
   "outputs": [
    {
     "data": {
      "text/plain": [
       "[12]"
      ]
     },
     "execution_count": 5,
     "metadata": {},
     "output_type": "execute_result"
    }
   ],
   "source": [
    "my_list = []\n",
    "\n",
    "if len(my_list) == 0:\n",
    "    my_list.append(12)\n",
    "    \n",
    "my_list"
   ]
  },
  {
   "cell_type": "markdown",
   "metadata": {
    "id": "h9Y3cMUd5h85"
   },
   "source": [
    "3. Створіть рядок зі своїм імʼям латинкою. Напишіть код, який би автоматизовував наступну задачу.\n",
    "\n",
    "Якщо в імені є літера \"а\"\n",
    " або \"i\", Виведіть на екран повідомлення \"A or I is in the name\".\n",
    "\n",
    "\n",
    "\n",
    "Якщо в імені є літери \"o\" та \"n\", Виведіть на екран повідомлення \"O and N is in the name\".\n",
    "\n",
    "Також якщо в імені немає літери \"о\", але є \"n\", Виведіть на екран повідомлення \"Only N is in the name\".\n",
    "\n",
    "В решті випадків виведіть на екран повідомлення \"There is no N in the name, but there might be O\".\n",
    "\n",
    "Зверніть увагу, що, наприклад, для імені \"Antonina\" буде виведено два повідомлення."
   ]
  },
  {
   "cell_type": "code",
   "execution_count": 7,
   "metadata": {
    "id": "bUH4LUx35u52"
   },
   "outputs": [
    {
     "name": "stdout",
     "output_type": "stream",
     "text": [
      "A or I is in the name\n",
      "There is no N in the name, but there might be O\n"
     ]
    }
   ],
   "source": [
    "str = 'yelyzaveta'\n",
    "name = str.lower()\n",
    "\n",
    "if 'a' in name or 'i' in name:\n",
    "    print(\"A or I is in the name\")\n",
    "    \n",
    "if 'o' in name and 'n' in name:\n",
    "    print(\"O and N is in the name\")\n",
    "elif 'n' in name and 'o' not in name:\n",
    "    print(\"Only N is in the name\")\n",
    "else:\n",
    "    print(\"There is no N in the name, but there might be O\")"
   ]
  },
  {
   "cell_type": "markdown",
   "metadata": {
    "id": "wPCXJv4354cU"
   },
   "source": [
    "# II. Comprehensions."
   ]
  },
  {
   "cell_type": "markdown",
   "metadata": {
    "id": "jULLW5jN55Pw"
   },
   "source": [
    "4. Створіть список, використовуючи if (не if-else), range та comprehension."
   ]
  },
  {
   "cell_type": "code",
   "execution_count": 8,
   "metadata": {
    "id": "mlZalnVC6W3F"
   },
   "outputs": [
    {
     "data": {
      "text/plain": [
       "[3, 6, 9]"
      ]
     },
     "execution_count": 8,
     "metadata": {},
     "output_type": "execute_result"
    }
   ],
   "source": [
    "my_list = [i for i in range(1, 11) if i % 3 == 0]\n",
    "\n",
    "my_list"
   ]
  },
  {
   "cell_type": "markdown",
   "metadata": {
    "id": "LqhEQ4JW6XcC"
   },
   "source": [
    "5. Створіть словник, використовуючи dict comprehension, що містить if else. Коли слід використовувати comprehensions, а коли їх слід уникати?"
   ]
  },
  {
   "cell_type": "code",
   "execution_count": 9,
   "metadata": {
    "id": "1yVaFbOs6hta"
   },
   "outputs": [
    {
     "data": {
      "text/plain": [
       "{1: 'Odd',\n",
       " 2: 'Even',\n",
       " 3: 'Odd',\n",
       " 4: 'Even',\n",
       " 5: 'Odd',\n",
       " 6: 'Even',\n",
       " 7: 'Odd',\n",
       " 8: 'Even',\n",
       " 9: 'Odd',\n",
       " 10: 'Even'}"
      ]
     },
     "execution_count": 9,
     "metadata": {},
     "output_type": "execute_result"
    }
   ],
   "source": [
    "my_dict = {i: \"Even\" if i % 2 == 0 else \"Odd\" for i in range(1, 11)}\n",
    "\n",
    "my_dict"
   ]
  },
  {
   "cell_type": "markdown",
   "metadata": {},
   "source": [
    "comprehensions слід використовувати коли маємо прості правила для створення словника, коли потрібно зробити певну фільтрацію або перетворення даних\n",
    "не слід використовувати коли маємо складні правила або вкладені comprehensions"
   ]
  },
  {
   "cell_type": "markdown",
   "metadata": {
    "id": "ZlqB8G3G6lHP"
   },
   "source": [
    "6. Створіть список з рядками та запишіть його у змінну. Створіть ще один список на основі попереднього, де кожен рядок буде містити тільки три перших заглавних символи. Наприклад: ['hello', 'i', 'dont', 'care'] -> ['HEL', 'I', 'DON', 'CAR']. Використання comprehensions обовʼязкове."
   ]
  },
  {
   "cell_type": "code",
   "execution_count": 11,
   "metadata": {
    "id": "nw6rz0bR60VC"
   },
   "outputs": [
    {
     "data": {
      "text/plain": [
       "['HEL', 'I', 'DON', 'CAR']"
      ]
     },
     "execution_count": 11,
     "metadata": {},
     "output_type": "execute_result"
    }
   ],
   "source": [
    "my_list = [\"hello\", \"i\", \"dont\", \"care\"]\n",
    "\n",
    "processed_list = [item[:3].upper() for item in my_list]\n",
    "\n",
    "processed_list"
   ]
  },
  {
   "cell_type": "markdown",
   "metadata": {
    "id": "Tj573IAH64Fz"
   },
   "source": [
    "# III. Цикли."
   ]
  },
  {
   "cell_type": "markdown",
   "metadata": {
    "id": "tN_33xdE65H5"
   },
   "source": [
    "7. Продемонструйте роботу циклу while. Не можна використовувати True для запуску циклу, щоб уникнути безкінечного циклу!"
   ]
  },
  {
   "cell_type": "code",
   "execution_count": 12,
   "metadata": {
    "id": "Kd9FO6yG63P5"
   },
   "outputs": [
    {
     "name": "stdout",
     "output_type": "stream",
     "text": [
      "0\n",
      "1\n",
      "2\n",
      "3\n",
      "4\n"
     ]
    }
   ],
   "source": [
    "number = 0\n",
    "while number < 5:\n",
    "    print(number)\n",
    "    number += 1"
   ]
  },
  {
   "cell_type": "markdown",
   "metadata": {
    "id": "x2CmfZO-7pW0"
   },
   "source": [
    "8. Напишіть програму, яка виведе на екран непарні числа в діапазоні від 0 до 20 включно."
   ]
  },
  {
   "cell_type": "code",
   "execution_count": 14,
   "metadata": {
    "id": "aCSRYA6s7tkF"
   },
   "outputs": [
    {
     "name": "stdout",
     "output_type": "stream",
     "text": [
      "1\n",
      "3\n",
      "5\n",
      "7\n",
      "9\n",
      "11\n",
      "13\n",
      "15\n",
      "17\n",
      "19\n"
     ]
    }
   ],
   "source": [
    "number = 0\n",
    "while number <= 20:\n",
    "    if number % 2 != 0:\n",
    "        print(number)\n",
    "    number += 1"
   ]
  },
  {
   "cell_type": "markdown",
   "metadata": {
    "id": "MDWNocZD7t_B"
   },
   "source": [
    "9. Створіть список з елементами булевого типу або None. Використовуючи цикли, отримайте в результаті список з кортежами, де перший елемент кортежу - індекс(ціле число), а другий елемент - відповідне значення з першого списку.\n",
    "\n",
    "Наприклад, [True, True, None, False] -> [(0, True), (1, True), (2, None), (3, False)]"
   ]
  },
  {
   "cell_type": "code",
   "execution_count": 15,
   "metadata": {
    "id": "0EUyjMdp7yfh"
   },
   "outputs": [
    {
     "data": {
      "text/plain": [
       "[(0, True), (1, True), (2, None), (3, False)]"
      ]
     },
     "execution_count": 15,
     "metadata": {},
     "output_type": "execute_result"
    }
   ],
   "source": [
    "my_list = [True, True, None, False]\n",
    "\n",
    "processed_list = [(index, value) for index, value in enumerate(my_list)]\n",
    "\n",
    "processed_list"
   ]
  },
  {
   "cell_type": "markdown",
   "metadata": {
    "id": "-6XUqlcG7zKs"
   },
   "source": [
    "10. Створіть словник, де ключі - назви книжок, а значення - їхня кількість у наявності в Вашій міні-бібліотеці. Бібліотека має містити щонайменше 6 книжок (6 пар значень у словнику) і щонайбільше 10 (пар значень). Використовуючи цикли, оновіть словник (не створюйте новий) так, щоби кількість книг у наявності збільшилося на 5 кожної книги. Наприклад,\n",
    "{'It': 3, 'Fault stars': 10, 'Bible': 17, 'Psychological romance': 4, 'Harry Potter': 13} -> {'It': 8, 'Fault stars': 15, 'Bible': 22, 'Psychological romance': 9, 'Harry Potter': 18}"
   ]
  },
  {
   "cell_type": "code",
   "execution_count": 27,
   "metadata": {
    "id": "Ceoj9wwb791q"
   },
   "outputs": [
    {
     "data": {
      "text/plain": [
       "{'It': 8,\n",
       " 'Fault in Our Stars': 15,\n",
       " 'Bible': 22,\n",
       " 'Psychological Romance': 9,\n",
       " 'Harry Potter': 18}"
      ]
     },
     "execution_count": 27,
     "metadata": {},
     "output_type": "execute_result"
    }
   ],
   "source": [
    "books = {\n",
    "    \"It\": 3,\n",
    "    \"Fault in Our Stars\": 10,\n",
    "    \"Bible\": 17,\n",
    "    \"Psychological Romance\": 4,\n",
    "    \"Harry Potter\": 13,\n",
    "}\n",
    "\n",
    "for i, quantity in books.items():\n",
    "    books[i] += 5\n",
    "\n",
    "books"
   ]
  },
  {
   "cell_type": "markdown",
   "metadata": {
    "id": "QLzyJM288AC7"
   },
   "source": [
    "11. Визначте цілочислену змінну n, що належить проміжку від 4 до 10 включно. Використовуючи цикли, виведіть в консоль наступний патерн.\n",
    "\n",
    "#\n",
    "##\n",
    "###\n",
    "####\n",
    "\n",
    "... #*n\n"
   ]
  },
  {
   "cell_type": "code",
   "execution_count": 24,
   "metadata": {
    "id": "KOpng87s8Duz"
   },
   "outputs": [
    {
     "name": "stdout",
     "output_type": "stream",
     "text": [
      "#\n",
      "##\n",
      "###\n",
      "####\n",
      "#####\n",
      "######\n"
     ]
    }
   ],
   "source": [
    "n = 6\n",
    "for i in range(1, n + 1):\n",
    "    for j in range(i):\n",
    "        print(\"#\", end=\"\")\n",
    "    print()"
   ]
  },
  {
   "cell_type": "markdown",
   "metadata": {
    "id": "_bd-bqAT8EHn"
   },
   "source": [
    "12. Гра \"Нумо вгадай\".\n",
    "Розробіть просту гру, де користувач має вгадати випадкове число від 1 до 100. Для генерації випадкового числа використовуйте функцію random.randint(a, b) (тут a та b включно). Для отримання числа з консолі використовуйте функцію input(), результат якої обовʼязково явно приведіть до типу int.\n",
    "\n",
    "Підказка: використовуйте цикл while та умови if-else, щоб повідомити користувачу піказки (напр. \"Більше\", \"Менше\") поки користувач не вгадає. По завершенню виведіть кількість спроб, які знадобилися для вгадування."
   ]
  },
  {
   "cell_type": "code",
   "execution_count": 26,
   "metadata": {
    "id": "IK9nnxFK8Hkl"
   },
   "outputs": [
    {
     "name": "stdout",
     "output_type": "stream",
     "text": [
      "Введіть число від 1 до 100: 5\n",
      "Ваше число занадто маленьке.\n",
      "Введіть число від 1 до 100: 9\n",
      "Ваше число занадто маленьке.\n",
      "Введіть число від 1 до 100: 20\n",
      "Ваше число занадто маленьке.\n",
      "Введіть число від 1 до 100: 30\n",
      "Ваше число занадто маленьке.\n",
      "Введіть число від 1 до 100: 40\n",
      "Ваше число занадто маленьке.\n",
      "Введіть число від 1 до 100: 50\n",
      "Ваше число занадто велике.\n",
      "Введіть число від 1 до 100: 45\n",
      "Ваше число занадто маленьке.\n",
      "Введіть число від 1 до 100: 46\n",
      "Вітаємо! Ви вгадали число за 8 спроб!\n"
     ]
    }
   ],
   "source": [
    "import random\n",
    "\n",
    "secret_number = random.randint(1, 100)\n",
    "\n",
    "attempts = 0\n",
    "\n",
    "while True:\n",
    "    attempts += 1\n",
    "\n",
    "    guess = int(input(\"Введіть число від 1 до 100: \"))\n",
    "\n",
    "    if guess == secret_number:\n",
    "        print(f\"Вітаємо! Ви вгадали число за {attempts} спроб!\")\n",
    "        break\n",
    "    elif guess > secret_number:\n",
    "        print(\"Ваше число занадто велике.\")\n",
    "    else:\n",
    "        print(\"Ваше число занадто маленьке.\")"
   ]
  },
  {
   "cell_type": "markdown",
   "metadata": {
    "id": "PXoXWb7Z8IGi"
   },
   "source": [
    "# Вітаю! Ви велика(ий) молодець, що впоралась(вся). Похваліть себе та побалуйте чимось приємним. Я Вами пишаюся."
   ]
  }
 ],
 "metadata": {
  "colab": {
   "provenance": []
  },
  "kernelspec": {
   "display_name": "Python 3 (ipykernel)",
   "language": "python",
   "name": "python3"
  },
  "language_info": {
   "codemirror_mode": {
    "name": "ipython",
    "version": 3
   },
   "file_extension": ".py",
   "mimetype": "text/x-python",
   "name": "python",
   "nbconvert_exporter": "python",
   "pygments_lexer": "ipython3",
   "version": "3.11.5"
  }
 },
 "nbformat": 4,
 "nbformat_minor": 1
}
